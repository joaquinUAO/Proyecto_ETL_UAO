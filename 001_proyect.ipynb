{
 "cells": [
  {
   "cell_type": "code",
   "execution_count": 1,
   "metadata": {},
   "outputs": [],
   "source": [
    "import etl\n",
    "import kaggle"
   ]
  },
  {
   "cell_type": "code",
   "execution_count": 2,
   "metadata": {},
   "outputs": [
    {
     "name": "stdout",
     "output_type": "stream",
     "text": [
      "Dataset URL: https://www.kaggle.com/datasets/fedesoriano/electric-power-consumption\n",
      "Conexión exitosa\n",
      "La base de datos 'proyect1_db' ya existe.\n",
      "Datos cargados en la base de datos exitosamente.\n",
      "Dataset almacenado en área de staging:\n",
      "               datetime  temperature  humidity  wind_speed  \\\n",
      "0         1/1/2017 0:00        6.559      73.8       0.083   \n",
      "1         1/1/2017 0:10        6.414      74.5       0.083   \n",
      "2         1/1/2017 0:20        6.313      74.5       0.080   \n",
      "3         1/1/2017 0:30        6.121      75.0       0.083   \n",
      "4         1/1/2017 0:40        5.921      75.7       0.081   \n",
      "...                 ...          ...       ...         ...   \n",
      "52411  12/30/2017 23:10        7.010      72.4       0.080   \n",
      "52412  12/30/2017 23:20        6.947      72.6       0.082   \n",
      "52413  12/30/2017 23:30        6.900      72.8       0.086   \n",
      "52414  12/30/2017 23:40        6.758      73.0       0.080   \n",
      "52415  12/30/2017 23:50        6.580      74.1       0.081   \n",
      "\n",
      "       general_diffuse_flows  diffuse_flows  power_consumption_zone1  \\\n",
      "0                      0.051          0.119              34055.69620   \n",
      "1                      0.070          0.085              29814.68354   \n",
      "2                      0.062          0.100              29128.10127   \n",
      "3                      0.091          0.096              28228.86076   \n",
      "4                      0.048          0.085              27335.69620   \n",
      "...                      ...            ...                      ...   \n",
      "52411                  0.040          0.096              31160.45627   \n",
      "52412                  0.051          0.093              30430.41825   \n",
      "52413                  0.084          0.074              29590.87452   \n",
      "52414                  0.066          0.089              28958.17490   \n",
      "52415                  0.062          0.111              28349.80989   \n",
      "\n",
      "       power_consumption_zone2  power_consumption_zone3  \n",
      "0                  16128.87538              20240.96386  \n",
      "1                  19375.07599              20131.08434  \n",
      "2                  19006.68693              19668.43373  \n",
      "3                  18361.09422              18899.27711  \n",
      "4                  17872.34043              18442.40964  \n",
      "...                        ...                      ...  \n",
      "52411              26857.31820              14780.31212  \n",
      "52412              26124.57809              14428.81152  \n",
      "52413              25277.69254              13806.48259  \n",
      "52414              24692.23688              13512.60504  \n",
      "52415              24055.23167              13345.49820  \n",
      "\n",
      "[52416 rows x 9 columns]\n"
     ]
    }
   ],
   "source": [
    "kaggle.api.dataset_download_files(\"fedesoriano/electric-power-consumption\", unzip=True)\n",
    "file_input = etl.extraer_a_staging()"
   ]
  }
 ],
 "metadata": {
  "kernelspec": {
   "display_name": "venv",
   "language": "python",
   "name": "python3"
  },
  "language_info": {
   "codemirror_mode": {
    "name": "ipython",
    "version": 3
   },
   "file_extension": ".py",
   "mimetype": "text/x-python",
   "name": "python",
   "nbconvert_exporter": "python",
   "pygments_lexer": "ipython3",
   "version": "3.10.9"
  }
 },
 "nbformat": 4,
 "nbformat_minor": 2
}
